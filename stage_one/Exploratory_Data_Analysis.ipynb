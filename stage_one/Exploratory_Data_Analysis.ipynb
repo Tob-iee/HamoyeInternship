{
 "cells": [
  {
   "cell_type": "code",
   "execution_count": 76,
   "metadata": {},
   "outputs": [],
   "source": [
    "# import the necessary libraries to scrutinise data\n",
    "%matplotlib inline\n",
    "import pandas as pd \n",
    "import numpy as np\n",
    "import seaborn as sns\n",
    "import matplotlib.pyplot as plt"
   ]
  },
  {
   "cell_type": "code",
   "execution_count": 77,
   "metadata": {},
   "outputs": [
    {
     "data": {
      "text/html": [
       "<div>\n",
       "<style scoped>\n",
       "    .dataframe tbody tr th:only-of-type {\n",
       "        vertical-align: middle;\n",
       "    }\n",
       "\n",
       "    .dataframe tbody tr th {\n",
       "        vertical-align: top;\n",
       "    }\n",
       "\n",
       "    .dataframe thead th {\n",
       "        text-align: right;\n",
       "    }\n",
       "</style>\n",
       "<table border=\"1\" class=\"dataframe\">\n",
       "  <thead>\n",
       "    <tr style=\"text-align: right;\">\n",
       "      <th></th>\n",
       "      <th>utility_id_ferc1</th>\n",
       "      <th>report_year</th>\n",
       "      <th>plant_name_ferc1</th>\n",
       "      <th>fuel_type_code_pudl</th>\n",
       "      <th>fuel_unit</th>\n",
       "      <th>fuel_qty_burned</th>\n",
       "      <th>fuel_mmbtu_per_unit</th>\n",
       "      <th>fuel_cost_per_unit_burned</th>\n",
       "      <th>fuel_cost_per_unit_delivered</th>\n",
       "      <th>fuel_cost_per_mmbtu</th>\n",
       "    </tr>\n",
       "    <tr>\n",
       "      <th>record_id</th>\n",
       "      <th></th>\n",
       "      <th></th>\n",
       "      <th></th>\n",
       "      <th></th>\n",
       "      <th></th>\n",
       "      <th></th>\n",
       "      <th></th>\n",
       "      <th></th>\n",
       "      <th></th>\n",
       "      <th></th>\n",
       "    </tr>\n",
       "  </thead>\n",
       "  <tbody>\n",
       "    <tr>\n",
       "      <th>f1_fuel_1994_12_1_0_7</th>\n",
       "      <td>1</td>\n",
       "      <td>1994</td>\n",
       "      <td>rockport</td>\n",
       "      <td>coal</td>\n",
       "      <td>ton</td>\n",
       "      <td>5377489.0</td>\n",
       "      <td>16.590</td>\n",
       "      <td>18.59</td>\n",
       "      <td>18.53</td>\n",
       "      <td>1.121</td>\n",
       "    </tr>\n",
       "    <tr>\n",
       "      <th>f1_fuel_1994_12_1_0_10</th>\n",
       "      <td>1</td>\n",
       "      <td>1994</td>\n",
       "      <td>rockport total plant</td>\n",
       "      <td>coal</td>\n",
       "      <td>ton</td>\n",
       "      <td>10486945.0</td>\n",
       "      <td>16.592</td>\n",
       "      <td>18.58</td>\n",
       "      <td>18.53</td>\n",
       "      <td>1.120</td>\n",
       "    </tr>\n",
       "    <tr>\n",
       "      <th>f1_fuel_1994_12_2_0_1</th>\n",
       "      <td>2</td>\n",
       "      <td>1994</td>\n",
       "      <td>gorgas</td>\n",
       "      <td>coal</td>\n",
       "      <td>ton</td>\n",
       "      <td>2978683.0</td>\n",
       "      <td>24.130</td>\n",
       "      <td>39.72</td>\n",
       "      <td>38.12</td>\n",
       "      <td>1.650</td>\n",
       "    </tr>\n",
       "    <tr>\n",
       "      <th>f1_fuel_1994_12_2_0_7</th>\n",
       "      <td>2</td>\n",
       "      <td>1994</td>\n",
       "      <td>barry</td>\n",
       "      <td>coal</td>\n",
       "      <td>ton</td>\n",
       "      <td>3739484.0</td>\n",
       "      <td>23.950</td>\n",
       "      <td>47.21</td>\n",
       "      <td>45.99</td>\n",
       "      <td>1.970</td>\n",
       "    </tr>\n",
       "    <tr>\n",
       "      <th>f1_fuel_1994_12_2_0_10</th>\n",
       "      <td>2</td>\n",
       "      <td>1994</td>\n",
       "      <td>chickasaw</td>\n",
       "      <td>gas</td>\n",
       "      <td>mcf</td>\n",
       "      <td>40533.0</td>\n",
       "      <td>1.000</td>\n",
       "      <td>2.77</td>\n",
       "      <td>2.77</td>\n",
       "      <td>2.570</td>\n",
       "    </tr>\n",
       "  </tbody>\n",
       "</table>\n",
       "</div>"
      ],
      "text/plain": [
       "                        utility_id_ferc1  report_year      plant_name_ferc1  \\\n",
       "record_id                                                                     \n",
       "f1_fuel_1994_12_1_0_7                  1         1994              rockport   \n",
       "f1_fuel_1994_12_1_0_10                 1         1994  rockport total plant   \n",
       "f1_fuel_1994_12_2_0_1                  2         1994                gorgas   \n",
       "f1_fuel_1994_12_2_0_7                  2         1994                 barry   \n",
       "f1_fuel_1994_12_2_0_10                 2         1994             chickasaw   \n",
       "\n",
       "                       fuel_type_code_pudl fuel_unit  fuel_qty_burned  \\\n",
       "record_id                                                               \n",
       "f1_fuel_1994_12_1_0_7                 coal       ton        5377489.0   \n",
       "f1_fuel_1994_12_1_0_10                coal       ton       10486945.0   \n",
       "f1_fuel_1994_12_2_0_1                 coal       ton        2978683.0   \n",
       "f1_fuel_1994_12_2_0_7                 coal       ton        3739484.0   \n",
       "f1_fuel_1994_12_2_0_10                 gas       mcf          40533.0   \n",
       "\n",
       "                        fuel_mmbtu_per_unit  fuel_cost_per_unit_burned  \\\n",
       "record_id                                                                \n",
       "f1_fuel_1994_12_1_0_7                16.590                      18.59   \n",
       "f1_fuel_1994_12_1_0_10               16.592                      18.58   \n",
       "f1_fuel_1994_12_2_0_1                24.130                      39.72   \n",
       "f1_fuel_1994_12_2_0_7                23.950                      47.21   \n",
       "f1_fuel_1994_12_2_0_10                1.000                       2.77   \n",
       "\n",
       "                        fuel_cost_per_unit_delivered  fuel_cost_per_mmbtu  \n",
       "record_id                                                                  \n",
       "f1_fuel_1994_12_1_0_7                          18.53                1.121  \n",
       "f1_fuel_1994_12_1_0_10                         18.53                1.120  \n",
       "f1_fuel_1994_12_2_0_1                          38.12                1.650  \n",
       "f1_fuel_1994_12_2_0_7                          45.99                1.970  \n",
       "f1_fuel_1994_12_2_0_10                          2.77                2.570  "
      ]
     },
     "execution_count": 77,
     "metadata": {},
     "output_type": "execute_result"
    }
   ],
   "source": [
    "report = pd.read_csv('Electric_Utilities_report.csv', index_col=\"record_id\")\n",
    "report.head()"
   ]
  },
  {
   "cell_type": "code",
   "execution_count": 5,
   "metadata": {},
   "outputs": [
    {
     "data": {
      "text/plain": [
       "(29523, 10)"
      ]
     },
     "execution_count": 5,
     "metadata": {},
     "output_type": "execute_result"
    }
   ],
   "source": [
    "report.shape"
   ]
  },
  {
   "cell_type": "markdown",
   "metadata": {},
   "source": [
    "# Question 1\n",
    "If you're given two lists:\n",
    "\n",
    "A = [1, 2, 3, 4, 5, 6], B = [13, 21, 34]\n",
    "\n",
    "The task is to create a list with the elements of A and B in a single dimension with output:\n",
    "\n",
    "A_B = [1, 2, 3, 4, 5, 6, 13, 21, 34]\n",
    "\n",
    "Which of the following option is the best way to create this list?"
   ]
  },
  {
   "cell_type": "code",
   "execution_count": 19,
   "metadata": {},
   "outputs": [
    {
     "name": "stdout",
     "output_type": "stream",
     "text": [
      "Extend: [1, 2, 3, 4, 5, 6, 13, 21, 34]\n",
      "Append: [1, 2, 3, 4, 5, 6, [13, 21, 34]]\n"
     ]
    }
   ],
   "source": [
    "A_extend = [1, 2, 3, 4, 5, 6]\n",
    "A_append = [1, 2, 3, 4, 5, 6]\n",
    "B = [13, 21, 34]\n",
    "\n",
    "A_extend.extend(B)\n",
    "A_append.append(B)\n",
    "\n",
    "print(\"Extend:\", A_extend)\n",
    "print(\"Append:\", A_append)\n"
   ]
  },
  {
   "cell_type": "markdown",
   "metadata": {},
   "source": [
    "# Question 2\n",
    "How do you create an identity matrix in Python?"
   ]
  },
  {
   "cell_type": "code",
   "execution_count": 21,
   "metadata": {},
   "outputs": [
    {
     "data": {
      "text/plain": [
       "array([[1., 0., 0., 0., 0., 0.],\n",
       "       [0., 1., 0., 0., 0., 0.],\n",
       "       [0., 0., 1., 0., 0., 0.],\n",
       "       [0., 0., 0., 1., 0., 0.],\n",
       "       [0., 0., 0., 0., 1., 0.],\n",
       "       [0., 0., 0., 0., 0., 1.]])"
      ]
     },
     "execution_count": 21,
     "metadata": {},
     "output_type": "execute_result"
    }
   ],
   "source": [
    "np.identity(6)"
   ]
  },
  {
   "cell_type": "markdown",
   "metadata": {},
   "source": [
    "# Question 3\n",
    "Which of the following fuel type code has the lowest average fuel cost per unit burned?"
   ]
  },
  {
   "cell_type": "code",
   "execution_count": 23,
   "metadata": {},
   "outputs": [
    {
     "data": {
      "text/plain": [
       "fuel_type_code_pudl\n",
       "nuclear    4955.157002\n",
       "oil         168.877086\n",
       "coal         67.421830\n",
       "waste        19.518122\n",
       "other        18.253856\n",
       "gas          13.659397\n",
       "Name: fuel_cost_per_unit_burned, dtype: float64"
      ]
     },
     "execution_count": 23,
     "metadata": {},
     "output_type": "execute_result"
    }
   ],
   "source": [
    "# group by 'fuel_type_code_pudl' and calculate the means of 'fuel_cost_per_unit_burned' per group\n",
    "report_gb = report.groupby([\"fuel_type_code_pudl\"])['fuel_cost_per_unit_burned'].mean().sort_values(ascending=False)\n",
    "report_gb"
   ]
  },
  {
   "cell_type": "markdown",
   "metadata": {},
   "source": [
    "# Question 4\n",
    "What is the standard deviation and 75th percentile of the measure of energy per unit(fuel_mmbtu_per_unit) in two decimal places?"
   ]
  },
  {
   "cell_type": "code",
   "execution_count": 24,
   "metadata": {},
   "outputs": [
    {
     "name": "stdout",
     "output_type": "stream",
     "text": [
      "Standard deviation: 10.6\n",
      "75th percentile: 17.01\n"
     ]
    }
   ],
   "source": [
    "print(\"Standard deviation:\", round(report.fuel_mmbtu_per_unit.std(), 2))\n",
    "print(\"75th percentile:\", round(report.fuel_mmbtu_per_unit.quantile(0.75), 2))"
   ]
  },
  {
   "cell_type": "markdown",
   "metadata": {},
   "source": [
    "# Question 5\n",
    "What is the skewness and kurtosis for the fuel quantity burned in two decimal places?"
   ]
  },
  {
   "cell_type": "code",
   "execution_count": 25,
   "metadata": {},
   "outputs": [
    {
     "name": "stdout",
     "output_type": "stream",
     "text": [
      "Skewness: 15.85\n",
      "Kurtosis: 651.37\n"
     ]
    }
   ],
   "source": [
    "print(\"Skewness:\", round(report.fuel_qty_burned.skew(), 2))\n",
    "print(\"Kurtosis:\", round(report.fuel_qty_burned.kurt(), 2))"
   ]
  },
  {
   "cell_type": "markdown",
   "metadata": {},
   "source": [
    "# Question 6\n",
    "Which feature has missing values and what is the total number of missing values and percentage of the missing rows as a factor of the total number of rows in three decimal places?\n",
    "(Enter answer in the format: Feature: xxx, Total: xxx, Percent: xxx)"
   ]
  },
  {
   "cell_type": "code",
   "execution_count": 109,
   "metadata": {},
   "outputs": [
    {
     "name": "stdout",
     "output_type": "stream",
     "text": [
      "Feature: ['fuel_unit'] Total: [180] Percent: 0.61\n"
     ]
    }
   ],
   "source": [
    "#column with a missing value\n",
    "missing_feat = report.columns[report.isnull().any()].tolist()\n",
    "\n",
    "# total number of missing values per column\n",
    "missing_values = report.isnull().sum().values[report.isnull().sum().values > 0]\n",
    "\n",
    "\n",
    "# percentage of rows with missing values\n",
    "total_missing = report.fuel_unit.isna().sum()\n",
    "total_rows = report.shape[0]\n",
    "percentage_missing = (total_missing / total_rows) * 100\n",
    "\n",
    "\n",
    "print('Feature:',missing_feat ,'Total:', missing_values ,'Percent:',round(percentage_missing, 3))"
   ]
  },
  {
   "cell_type": "markdown",
   "metadata": {},
   "source": [
    "# Question 7\n",
    "The feature with missing values falls under what category? What missing value imputation technique would you use?# "
   ]
  },
  {
   "cell_type": "code",
   "execution_count": 66,
   "metadata": {},
   "outputs": [
    {
     "data": {
      "text/plain": [
       "dtype('O')"
      ]
     },
     "execution_count": 66,
     "metadata": {},
     "output_type": "execute_result"
    }
   ],
   "source": [
    "# getting the data type of fuel_unit\n",
    "report.fuel_unit.dtypes"
   ]
  },
  {
   "cell_type": "markdown",
   "metadata": {},
   "source": [
    "# Question 8\n",
    "Which of the features has the second and third lowest correlation with the Fuel Cost Per Unit Burned?"
   ]
  },
  {
   "cell_type": "code",
   "execution_count": 69,
   "metadata": {},
   "outputs": [
    {
     "data": {
      "text/plain": [
       "utility_id_ferc1               -0.037863\n",
       "fuel_qty_burned                -0.018535\n",
       "fuel_mmbtu_per_unit            -0.010034\n",
       "fuel_cost_per_mmbtu            -0.000437\n",
       "fuel_cost_per_unit_delivered    0.011007\n",
       "report_year                     0.013599\n",
       "fuel_cost_per_unit_burned       1.000000\n",
       "Name: fuel_cost_per_unit_burned, dtype: float64"
      ]
     },
     "execution_count": 69,
     "metadata": {},
     "output_type": "execute_result"
    }
   ],
   "source": [
    "corr = report.corr()\n",
    "corr.fuel_cost_per_unit_burned.sort_values()"
   ]
  },
  {
   "cell_type": "markdown",
   "metadata": {},
   "source": [
    "# Question 9\n",
    "For the fuel type coal, what is the percentage change in the fuel cost per unit burned in 1998 compared to 1994?"
   ]
  },
  {
   "cell_type": "code",
   "execution_count": 111,
   "metadata": {},
   "outputs": [
    {
     "name": "stdout",
     "output_type": "stream",
     "text": [
      "Percentage change: -21\n"
     ]
    }
   ],
   "source": [
    "# select records with fuel type coal for 1994 and 1998\n",
    "coal_1994 = report.loc[(report['fuel_type_code_pudl'] == 'coal') & ((report['report_year'] == 1994))]\n",
    "coal_1998 = report.loc[(report['fuel_type_code_pudl'] == 'coal') & ((report['report_year'] == 1998))]\n",
    "\n",
    "\n",
    "coal_1994_sum = coal_1994.fuel_cost_per_unit_burned.sum()\n",
    "coal_1998_sum = coal_1998.fuel_cost_per_unit_burned.sum()\n",
    "\n",
    "pct_change = (coal_1998_sum - coal_1994_sum) / coal_1994_sum * 100\n",
    "print(\"Percentage change:\", round(pct_change))"
   ]
  },
  {
   "cell_type": "markdown",
   "metadata": {},
   "source": [
    "# Question 10\n",
    "Which year has the highest average fuel cost per unit delivered?"
   ]
  },
  {
   "cell_type": "code",
   "execution_count": 90,
   "metadata": {},
   "outputs": [
    {
     "data": {
      "text/plain": [
       "report_year\n",
       "1997    11140.197239\n",
       "Name: fuel_cost_per_unit_delivered, dtype: float64"
      ]
     },
     "execution_count": 90,
     "metadata": {},
     "output_type": "execute_result"
    }
   ],
   "source": [
    "# group by the 'report_year' and calculate the mean of 'fuel_cost_per_unit_burned' per year\n",
    "report.groupby('report_year').fuel_cost_per_unit_delivered.mean().sort_values(ascending = False)[:1]"
   ]
  },
  {
   "cell_type": "code",
   "execution_count": null,
   "metadata": {},
   "outputs": [],
   "source": []
  }
 ],
 "metadata": {
  "kernelspec": {
   "display_name": "Python 3",
   "language": "python",
   "name": "python3"
  },
  "language_info": {
   "codemirror_mode": {
    "name": "ipython",
    "version": 3
   },
   "file_extension": ".py",
   "mimetype": "text/x-python",
   "name": "python",
   "nbconvert_exporter": "python",
   "pygments_lexer": "ipython3",
   "version": "3.6.9"
  }
 },
 "nbformat": 4,
 "nbformat_minor": 4
}
